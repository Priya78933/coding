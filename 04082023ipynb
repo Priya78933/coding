{
  "nbformat": 4,
  "nbformat_minor": 0,
  "metadata": {
    "colab": {
      "provenance": [],
      "authorship_tag": "ABX9TyOy3qf9iT0SkBrse9/RXbdU"
    },
    "kernelspec": {
      "name": "python3",
      "display_name": "Python 3"
    },
    "language_info": {
      "name": "python"
    }
  },
  "cells": [
    {
      "cell_type": "code",
      "execution_count": 2,
      "metadata": {
        "colab": {
          "base_uri": "https://localhost:8080/"
        },
        "id": "pTDiq5Wsvjpc",
        "outputId": "ababa244-b642-4a6e-efde-ece663e835aa"
      },
      "outputs": [
        {
          "output_type": "stream",
          "name": "stdout",
          "text": [
            "[8, 2, 8, 6, 11, 0, 0, 0, 0]\n"
          ]
        }
      ],
      "source": [
        "nums=[0,8,2,0,0,8,6,0,11]\n",
        "n1=[]\n",
        "n2=[]\n",
        "for i  in nums:\n",
        "  if i==0:\n",
        "    n1.append(i)\n",
        "  else:\n",
        "    n2.append(i)\n",
        "print(n2+n1)"
      ]
    },
    {
      "cell_type": "code",
      "source": [
        "n=int(input(\"enter the number\"))\n",
        "if n%2==0:\n",
        "  if n>6 and n<=20:\n",
        "    print(\"weired\")\n",
        "  else:\n",
        "    print(\"not weired\")\n",
        "else:\n",
        "  print(\"not weired\")\n",
        ""
      ],
      "metadata": {
        "colab": {
          "base_uri": "https://localhost:8080/"
        },
        "id": "AkIj2zI1wgcT",
        "outputId": "0fba62d5-948d-4fce-f9a5-80e4000d13f1"
      },
      "execution_count": 1,
      "outputs": [
        {
          "output_type": "stream",
          "name": "stdout",
          "text": [
            "enter the number8\n",
            "weired\n"
          ]
        }
      ]
    },
    {
      "cell_type": "code",
      "source": [
        "nums=[1,2,0,5,0,3]\n",
        "n1=[]\n",
        "n2=[]\n",
        "for i  in nums:\n",
        "  if i==0:\n",
        "    n1.append(i)\n",
        "  else:\n",
        "    n2.append(i)\n",
        "k=int(len(n2)//2)\n",
        "p=n2[ :k]\n",
        "p1=n2[k:]\n",
        "print(p+n1+p1)"
      ],
      "metadata": {
        "colab": {
          "base_uri": "https://localhost:8080/"
        },
        "id": "dtJOsdmjxK47",
        "outputId": "19ed4e50-e150-4a68-861d-f6fa97b713f3"
      },
      "execution_count": 6,
      "outputs": [
        {
          "output_type": "stream",
          "name": "stdout",
          "text": [
            "[1, 2, 0, 0, 5, 3]\n"
          ]
        }
      ]
    }
  ]
}