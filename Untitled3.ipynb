{
  "nbformat": 4,
  "nbformat_minor": 0,
  "metadata": {
    "colab": {
      "provenance": [],
      "authorship_tag": "ABX9TyOEm991UPF3LVZfOno0tB0x"
    },
    "kernelspec": {
      "name": "python3",
      "display_name": "Python 3"
    },
    "language_info": {
      "name": "python"
    }
  },
  "cells": [
    {
      "cell_type": "code",
      "execution_count": 3,
      "metadata": {
        "id": "TT6YQvWsfqPI"
      },
      "outputs": [],
      "source": [
        "class Solution:\n",
        "    def angleClock(self, hour: int, minutes: int) -> float:\n",
        "        if hour==12 and minutes==0:\n",
        "            return 0\n",
        "        a=(30*hour)+(minutes/2)\n",
        "        b=(minutes*6)\n",
        "        c=abs(a-b)\n",
        "        if c<180:\n",
        "            return c\n",
        "        else:\n",
        "            return 360-c"
      ]
    },
    {
      "cell_type": "code",
      "source": [],
      "metadata": {
        "id": "3KM7uR0-f-Qj"
      },
      "execution_count": null,
      "outputs": []
    }
  ]
}