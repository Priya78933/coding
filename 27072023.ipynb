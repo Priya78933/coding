{
  "nbformat": 4,
  "nbformat_minor": 0,
  "metadata": {
    "colab": {
      "provenance": [],
      "authorship_tag": "ABX9TyPb9TNIawLhV/nNNAqX12B0"
    },
    "kernelspec": {
      "name": "python3",
      "display_name": "Python 3"
    },
    "language_info": {
      "name": "python"
    }
  },
  "cells": [
    {
      "cell_type": "code",
      "execution_count": 1,
      "metadata": {
        "colab": {
          "base_uri": "https://localhost:8080/"
        },
        "id": "joJof3PlRJZe",
        "outputId": "09cdb2a2-22fd-4648-da07-52699b123bab"
      },
      "outputs": [
        {
          "output_type": "stream",
          "name": "stdout",
          "text": [
            "[3, 5, 6, 7, 8]\n"
          ]
        }
      ],
      "source": [
        "'''program on digit seperation'''\n",
        "nums=[3,5,6,78]\n",
        "s=\"\"\n",
        "for i in nums:\n",
        "    s+=str(i)\n",
        "    res=[]\n",
        "    for i in s:\n",
        "        res.append(int(i))\n",
        "print(res)"
      ]
    }
  ]
}